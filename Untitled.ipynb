{
  "cells": [
    {
      "cell_type": "markdown",
      "metadata": {
        "id": "EZqRim9RJTk8"
      },
      "source": [
        "#ESERCIZIO 1\n",
        "##generazione di numeri pseudo-casuali distribuiti esponenzialmente"
      ]
    },
    {
      "cell_type": "code",
      "execution_count": 49,
      "metadata": {
        "id": "7B4JTJ--JTk-",
        "outputId": "d59fb3a7-0136-4e2b-dbe3-6a815f7dee7b",
        "colab": {
          "base_uri": "https://localhost:8080/",
          "height": 469
        }
      },
      "outputs": [
        {
          "output_type": "display_data",
          "data": {
            "text/plain": [
              "<Figure size 640x480 with 1 Axes>"
            ],
            "image/png": "[encoded data removed]"
          },
          "metadata": {}
        }
      ],
      "source": [
        "#Si generi un campione di numeri pseudo-casuali distribuiti secondo una distribuzione di densità ESPONENZIALE con tempo caratteristico tau di 5 secondi e\n",
        "#si visualizzi la distribuzione del campione ottenuto in un ISTOGRAMMA utilizzando il METODO della FUNZIONE INVERSA.\n",
        "#Si scrivano tutte le funzioni deputate alla generazione di numeri casuali in una libreria, implementata in file separati rispetto al programma principale.\n",
        "\n",
        "import random\n",
        "import matplotlib.pyplot as plt\n",
        "import numpy as np\n",
        "from math import floor\n",
        "from scipy.stats import expon\n",
        "\n",
        "\n",
        "def inv_exp (y, lamb = 1) :\n",
        "\n",
        "    return -1 * np.log (1-y) / lamb #INVERSA della primitiva della funzione expon\n",
        "\n",
        "\n",
        "def exp(y,lamb = 1):\n",
        "\n",
        "    return expon.pdf(y, loc=lamb, scale=1)\n",
        "\n",
        "def main () :\n",
        "    '''\n",
        "    Funzione che implementa il programma principale\n",
        "    '''\n",
        "\n",
        "\n",
        "    tau  = float (5) #metterlo come input, deve essere un valore positivo\n",
        "    lamb = 1./tau\n",
        "\n",
        "    N    = int (10000) #metterlo come input\n",
        "    seed = 10        #metterlo come input\n",
        "\n",
        "    random.seed (seed)\n",
        "    randlist1 = []\n",
        "\n",
        "\n",
        "    for i in range (N):\n",
        "        randlist1.append (inv_exp (random.random(), lamb))  #random.random è un numero pseudo casuale passato alla funzione inversa\n",
        "\n",
        "\n",
        "\n",
        "\n",
        "    # plotting of the generated list of numbers in a histogram. SI ORA TRATTA SOLO DI PLOTTARE\n",
        "\n",
        "    nBins = floor (len (randlist1) / 100.)        # number of bins of the hitogram\n",
        "    bin_edges = np.linspace (0., 3., nBins + 1)  # edges o the histogram bins\n",
        "\n",
        "    # disegno della funzione\n",
        "    fig, ax = plt.subplots ()\n",
        "    ax.set_title ('Istogramma di numeri random  con andamento exp', size=10)\n",
        "    ax.set_xlabel ('random value')\n",
        "    ax.set_ylabel ('events in bin')\n",
        "    ax.hist (randlist1,      # list of numbers\n",
        "             bins = bin_edges,\n",
        "             color = 'orange',\n",
        "             # normed = True,\n",
        "            )\n",
        "\n",
        "    plt.savefig ('es_4.6.png')\n",
        "\n",
        "\n",
        "# ---- ---- ---- ---- ---- ---- ---- ---- ---- ---- ---- ---- ----\n",
        "\n",
        "\n",
        "if __name__ == \"__main__\":\n",
        "    main ()\n",
        "\n"
      ]
    },
    {
      "cell_type": "markdown",
      "source": [
        "#ESERCIZIO 2:\n",
        "##generazione di numeri pseudo-casuali distribuiti Poissonianamente"
      ],
      "metadata": {
        "id": "agBRVixtQ4ye"
      }
    },
    {
      "cell_type": "code",
      "source": [
        "#Si utilizzi il risultato del primo esercizio per simulare uno pseudo-esperimento di conteggio con caratteristiche di Poisson:\n",
        "\n",
        "#si scelga un tempo caratteristico t0 di un processo di decadimento radioattivo;\n",
        "\n",
        "#si scelta un tempo di misura tM entro cui fare conteggi;\n",
        "\n",
        "#in un CICLO , si simulino N pseudo-esperimenti di conteggio, in cui, per ciascuno di essi,\n",
        "#si simuli una sequenza di eventi casuali con intertempo caratteristico dei fenomeni di Poisson,\n",
        "#fino a che il tempo totale trascorso non sia maggiore del tempo di misura, contando il numero di eventi generati che cascano nell’intervallo;\n",
        "\n",
        "#si riempia un istogramma con i conteggi simulati per ogni esperimento\n",
        "\n",
        "\n",
        "import random\n",
        "import matplotlib.pyplot as plt\n",
        "import numpy as np\n",
        "from math import floor, exp\n",
        "from scipy.stats import expon\n",
        "\n",
        "\n",
        "def inv_exp (y, lamb = 1) :\n",
        "\n",
        "    return -1 * np.log (1-y) / lamb #INVERSA della primitiva della funzione expon\n",
        "\n",
        "\n",
        "\n",
        "def main () :\n",
        "    '''\n",
        "    Funzione che implementa il programma principale\n",
        "    '''\n",
        "\n",
        "\n",
        "\n",
        "    tau  = float (5) #metterlo come input, deve essere un valore positivo\n",
        "    lamb = 1./tau\n",
        "    t_misura = float(60)  # tempo di misura\n",
        "\n",
        "\n",
        "    seed = 10\n",
        "    random.seed (seed)\n",
        "\n",
        "    randlist1 = []\n",
        "  # ciclo su tanti pseudo-esperimenti\n",
        "    for i in range(1000):\n",
        "       t_tot = inv_exp (random.random(), lamb)\n",
        "       N_evt = 0\n",
        "       while (t_tot < t_misura):\n",
        "           ++N_evt\n",
        "           t_tot += inv_exp (random.random(), lamb)\n",
        "       randlist1.append(N_evt)\n",
        "    #ciclo su tanti pseudo-esperimenti\n",
        "\n",
        "\n",
        "    nBins = floor (len (randlist1) / 100.)        # number of bins of the hitogram\n",
        "    bin_edges = np.linspace (0., 3., nBins + 1)  # edges o the histogram bins\n",
        "\n",
        "    # disegno della funzione\n",
        "    fig, ax = plt.subplots ()\n",
        "    ax.set_title ('Istogramma di numeri random distribuiti poissoniamente', size=10)\n",
        "    ax.set_xlabel ('random value')\n",
        "    ax.set_ylabel ('events in bin')\n",
        "    ax.hist (randlist1,      # list of numbers\n",
        "             bins = bin_edges,\n",
        "             color = 'orange',\n",
        "             # normed = True,\n",
        "            )\n",
        "\n",
        "    plt.savefig ('es_4.6.png')\n",
        "\n",
        "# ---- ---- ---- ---- ---- ---- ---- ---- ---- ---- ---- ---- ----\n",
        "\n",
        "\n",
        "if __name__ == \"__main__\":\n",
        "    main ()\n",
        "\n"
      ],
      "metadata": {
        "colab": {
          "base_uri": "https://localhost:8080/",
          "height": 469
        },
        "id": "dBBoKPK0QEgz",
        "outputId": "9fe8f085-1d40-4844-a81c-b874883b9cfa"
      },
      "execution_count": 48,
      "outputs": [
        {
          "output_type": "display_data",
          "data": {
            "text/plain": [
              "<Figure size 640x480 with 1 Axes>"
            ],
            "image/png": "[encoded data removed]"
          },
          "metadata": {}
        }
      ]
    },
    {
      "cell_type": "markdown",
      "source": [
        "#ESERCIZIO 3\n"
      ],
      "metadata": {
        "id": "bFgLzAywXjL8"
      }
    },
    {
      "cell_type": "code",
      "source": [
        "#Si utilizzi il codice sorgente scritto nell’esercizio precedente per aggiungere alla libreria sviluppata per l’esercizio 1 una funzione che generi numeri casuali secondo la distribuzione di Poisson,\n",
        "#avendo la media di eventi attesi come parametro in ingresso.\n",
        "#Si riscriva l’esercizio precedente facendo uso di questa funzione, disegnando anche l’istogramma della densità di probabilità"
      ],
      "metadata": {
        "id": "6Ww87e08XyTS"
      },
      "execution_count": null,
      "outputs": []
    },
    {
      "cell_type": "code",
      "source": [],
      "metadata": {
        "id": "WKGhXQIKazO2"
      },
      "execution_count": null,
      "outputs": []
    },
    {
      "cell_type": "markdown",
      "source": [
        "#ESERCIZIO 4"
      ],
      "metadata": {
        "id": "4qe-cMSSa8pE"
      }
    },
    {
      "cell_type": "code",
      "source": [
        "#Use the result from the previous exercise to calculate the statistics of a Poisson distribution varying the mean, from 1 to 250 (how should you sample the interval?).\n",
        "#Plot the obtained behavior of skewness and kurtosis as function of the Poisson mean.\n"
      ],
      "metadata": {
        "id": "YqkY5VW-a_AF"
      },
      "execution_count": null,
      "outputs": []
    },
    {
      "cell_type": "code",
      "source": [],
      "metadata": {
        "id": "VB8Lazdvbq2r"
      },
      "execution_count": null,
      "outputs": []
    },
    {
      "cell_type": "code",
      "source": [
        "#Si utilizzi il risultato del primo esercizio per simulare uno pseudo-esperimento di conteggio con caratteristiche di Poisson:\n",
        "\n",
        "#si scelga un tempo caratteristico t0 di un processo di decadimento radioattivo;\n",
        "\n",
        "#si scelta un tempo di misura tM entro cui fare conteggi;\n",
        "\n",
        "#in un CICLO , si simulino N pseudo-esperimenti di conteggio, in cui, per ciascuno di essi,\n",
        "#si simuli una sequenza di eventi casuali con intertempo caratteristico dei fenomeni di Poisson,\n",
        "#fino a che il tempo totale trascorso non sia maggiore del tempo di misura, contando il numero di eventi generati che cascano nell’intervallo;\n",
        "\n",
        "#si riempia un istogramma con i conteggi simulati per ogni esperimento\n",
        "\n",
        "\n",
        "import random\n",
        "import matplotlib.pyplot as plt\n",
        "import numpy as np\n",
        "from math import floor, exp\n",
        "from scipy.stats import expon\n",
        "\n",
        "\n",
        "def inv_exp (y, lamb = 1) :\n",
        "\n",
        "    return -1 * np.log (1-y) / lamb #INVERSA della primitiva della funzione (pdf) expon\n",
        "\n",
        "\n",
        "\n",
        "def exp(y,lamb = 1):\n",
        "\n",
        "    return expon.pdf(y, loc=lamb, scale=1)\n",
        "\n",
        "def main () :\n",
        "    '''\n",
        "    Funzione che implementa il programma principale\n",
        "    '''\n",
        "\n",
        "\n",
        "\n",
        "    tau  = float (5) #metterlo come input, deve essere un valore positivo\n",
        "    lamb = 1./tau\n",
        "    t_misura = float(60)  # tempo di misura\n",
        "\n",
        "    seed = 10    U01, Piano: 4, Stanza: 4041\n",
        "\n",
        "    random.seed (seed)\n",
        "    N = 100\n",
        "    t=0\n",
        "    #PSEUDOCODICE: un ciclo con while(t<t_misura) al cui interno riempio una certa lista\n",
        "    randlist1 = []\n",
        "    randlist2 = []\n",
        "    while(t<t_misura):\n",
        "       for i in range (N):\n",
        "        randlist1.append(inv_exp (random.random(), lamb))\n",
        "    randlist2.append(len(randlist1))\n",
        "    t=t+1\n",
        "\n",
        "\n",
        "\n",
        "    nBins = floor (len (randlist1) / 100.)        # number of bins of the hitogram\n",
        "    bin_edges = np.linspace (0., 3., nBins + 1)  # edges o the histogram bins\n",
        "\n",
        "    # disegno della funzione\n",
        "    fig, ax = plt.subplots ()\n",
        "    ax.set_title ('Istogramma di numeri random distribuiti poissoniamente', size=10)\n",
        "    ax.set_xlabel ('random value')\n",
        "    ax.set_ylabel ('events in bin')\n",
        "    ax.hist (randlist2,    # list of numbers\n",
        "             bins = bin_edges,\n",
        "             color = 'orange',\n",
        "             # normed = True,\n",
        "            )\n",
        "\n",
        "    plt.savefig ('es_4.6.png')\n",
        "\n",
        "# ---- ---- ---- ---- ---- ---- ---- ---- ---- ---- ---- ---- ----\n",
        "\n",
        "\n",
        "if __name__ == \"__main__\":\n",
        "    main ()\n",
        "\n"
      ],
      "metadata": {
        "outputId": "19454ea4-be31-4413-d7ec-c037841e37b0",
        "colab": {
          "base_uri": "https://localhost:8080/",
          "height": 375
        },
        "id": "oGdBToX3brZC"
      },
      "execution_count": 58,
      "outputs": [
        {
          "output_type": "error",
          "ename": "KeyboardInterrupt",
          "evalue": "ignored",
          "traceback": [
            "\u001b[0;31m---------------------------------------------------------------------------\u001b[0m",
            "\u001b[0;31mKeyboardInterrupt\u001b[0m                         Traceback (most recent call last)",
            "\u001b[0;32m<ipython-input-58-86e56733c336>\u001b[0m in \u001b[0;36m<cell line: 72>\u001b[0;34m()\u001b[0m\n\u001b[1;32m     71\u001b[0m \u001b[0;34m\u001b[0m\u001b[0m\n\u001b[1;32m     72\u001b[0m \u001b[0;32mif\u001b[0m \u001b[0m__name__\u001b[0m \u001b[0;34m==\u001b[0m \u001b[0;34m\"__main__\"\u001b[0m\u001b[0;34m:\u001b[0m\u001b[0;34m\u001b[0m\u001b[0;34m\u001b[0m\u001b[0m\n\u001b[0;32m---> 73\u001b[0;31m     \u001b[0mmain\u001b[0m \u001b[0;34m(\u001b[0m\u001b[0;34m)\u001b[0m\u001b[0;34m\u001b[0m\u001b[0;34m\u001b[0m\u001b[0m\n\u001b[0m\u001b[1;32m     74\u001b[0m \u001b[0;34m\u001b[0m\u001b[0m\n",
            "\u001b[0;32m<ipython-input-58-86e56733c336>\u001b[0m in \u001b[0;36mmain\u001b[0;34m()\u001b[0m\n\u001b[1;32m     45\u001b[0m     \u001b[0;32mwhile\u001b[0m\u001b[0;34m(\u001b[0m\u001b[0mt\u001b[0m\u001b[0;34m<\u001b[0m\u001b[0mt_misura\u001b[0m\u001b[0;34m)\u001b[0m\u001b[0;34m:\u001b[0m\u001b[0;34m\u001b[0m\u001b[0;34m\u001b[0m\u001b[0m\n\u001b[1;32m     46\u001b[0m        \u001b[0;32mfor\u001b[0m \u001b[0mi\u001b[0m \u001b[0;32min\u001b[0m \u001b[0mrange\u001b[0m \u001b[0;34m(\u001b[0m\u001b[0mN\u001b[0m\u001b[0;34m)\u001b[0m\u001b[0;34m:\u001b[0m\u001b[0;34m\u001b[0m\u001b[0;34m\u001b[0m\u001b[0m\n\u001b[0;32m---> 47\u001b[0;31m         \u001b[0mrandlist1\u001b[0m\u001b[0;34m.\u001b[0m\u001b[0mappend\u001b[0m\u001b[0;34m(\u001b[0m\u001b[0minv_exp\u001b[0m \u001b[0;34m(\u001b[0m\u001b[0mrandom\u001b[0m\u001b[0;34m.\u001b[0m\u001b[0mrandom\u001b[0m\u001b[0;34m(\u001b[0m\u001b[0;34m)\u001b[0m\u001b[0;34m,\u001b[0m \u001b[0mlamb\u001b[0m\u001b[0;34m)\u001b[0m\u001b[0;34m)\u001b[0m\u001b[0;34m\u001b[0m\u001b[0;34m\u001b[0m\u001b[0m\n\u001b[0m\u001b[1;32m     48\u001b[0m     \u001b[0mrandlist2\u001b[0m\u001b[0;34m.\u001b[0m\u001b[0mappend\u001b[0m\u001b[0;34m(\u001b[0m\u001b[0mlen\u001b[0m\u001b[0;34m(\u001b[0m\u001b[0mrandlist1\u001b[0m\u001b[0;34m)\u001b[0m\u001b[0;34m)\u001b[0m\u001b[0;34m\u001b[0m\u001b[0;34m\u001b[0m\u001b[0m\n\u001b[1;32m     49\u001b[0m     \u001b[0mt\u001b[0m\u001b[0;34m=\u001b[0m\u001b[0mt\u001b[0m\u001b[0;34m+\u001b[0m\u001b[0;36m1\u001b[0m\u001b[0;34m\u001b[0m\u001b[0;34m\u001b[0m\u001b[0m\n",
            "\u001b[0;32m<ipython-input-58-86e56733c336>\u001b[0m in \u001b[0;36minv_exp\u001b[0;34m(y, lamb)\u001b[0m\n\u001b[1;32m     21\u001b[0m \u001b[0;32mdef\u001b[0m \u001b[0minv_exp\u001b[0m \u001b[0;34m(\u001b[0m\u001b[0my\u001b[0m\u001b[0;34m,\u001b[0m \u001b[0mlamb\u001b[0m \u001b[0;34m=\u001b[0m \u001b[0;36m1\u001b[0m\u001b[0;34m)\u001b[0m \u001b[0;34m:\u001b[0m\u001b[0;34m\u001b[0m\u001b[0;34m\u001b[0m\u001b[0m\n\u001b[1;32m     22\u001b[0m \u001b[0;34m\u001b[0m\u001b[0m\n\u001b[0;32m---> 23\u001b[0;31m     \u001b[0;32mreturn\u001b[0m \u001b[0;34m-\u001b[0m\u001b[0;36m1\u001b[0m \u001b[0;34m*\u001b[0m \u001b[0mnp\u001b[0m\u001b[0;34m.\u001b[0m\u001b[0mlog\u001b[0m \u001b[0;34m(\u001b[0m\u001b[0;36m1\u001b[0m\u001b[0;34m-\u001b[0m\u001b[0my\u001b[0m\u001b[0;34m)\u001b[0m \u001b[0;34m/\u001b[0m \u001b[0mlamb\u001b[0m \u001b[0;31m#INVERSA della primitiva della funzione (pdf) expon\u001b[0m\u001b[0;34m\u001b[0m\u001b[0;34m\u001b[0m\u001b[0m\n\u001b[0m\u001b[1;32m     24\u001b[0m \u001b[0;34m\u001b[0m\u001b[0m\n\u001b[1;32m     25\u001b[0m \u001b[0;34m\u001b[0m\u001b[0m\n",
            "\u001b[0;31mKeyboardInterrupt\u001b[0m: "
          ]
        }
      ]
    }
  ],
  "metadata": {
    "kernelspec": {
      "display_name": "Python 3 (ipykernel)",
      "language": "python",
      "name": "python3"
    },
    "language_info": {
      "codemirror_mode": {
        "name": "ipython",
        "version": 3
      },
      "file_extension": ".py",
      "mimetype": "text/x-python",
      "name": "python",
      "nbconvert_exporter": "python",
      "pygments_lexer": "ipython3",
      "version": "3.8.10"
    },
    "colab": {
      "provenance": []
    }
  },
  "nbformat": 4,
  "nbformat_minor": 0
}